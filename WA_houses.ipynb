{
 "cells": [
  {
   "cell_type": "markdown",
   "id": "f8090489",
   "metadata": {},
   "source": [
    "# Washington houses dataset"
   ]
  },
  {
   "cell_type": "markdown",
   "id": "59e45e42",
   "metadata": {},
   "source": [
    "### Import the dataset"
   ]
  },
  {
   "cell_type": "code",
   "execution_count": 1,
   "id": "24ff5ed7",
   "metadata": {},
   "outputs": [
    {
     "data": {
      "text/html": [
       "<div>\n",
       "<style scoped>\n",
       "    .dataframe tbody tr th:only-of-type {\n",
       "        vertical-align: middle;\n",
       "    }\n",
       "\n",
       "    .dataframe tbody tr th {\n",
       "        vertical-align: top;\n",
       "    }\n",
       "\n",
       "    .dataframe thead th {\n",
       "        text-align: right;\n",
       "    }\n",
       "</style>\n",
       "<table border=\"1\" class=\"dataframe\">\n",
       "  <thead>\n",
       "    <tr style=\"text-align: right;\">\n",
       "      <th></th>\n",
       "      <th>id</th>\n",
       "      <th>date</th>\n",
       "      <th>price</th>\n",
       "      <th>bedrooms</th>\n",
       "      <th>bathrooms</th>\n",
       "      <th>sqft_living</th>\n",
       "      <th>sqft_lot</th>\n",
       "      <th>floors</th>\n",
       "      <th>waterfront</th>\n",
       "      <th>view</th>\n",
       "      <th>...</th>\n",
       "      <th>grade</th>\n",
       "      <th>sqft_above</th>\n",
       "      <th>sqft_basement</th>\n",
       "      <th>yr_built</th>\n",
       "      <th>yr_renovated</th>\n",
       "      <th>zipcode</th>\n",
       "      <th>lat</th>\n",
       "      <th>long</th>\n",
       "      <th>sqft_living15</th>\n",
       "      <th>sqft_lot15</th>\n",
       "    </tr>\n",
       "  </thead>\n",
       "  <tbody>\n",
       "    <tr>\n",
       "      <th>0</th>\n",
       "      <td>40000362</td>\n",
       "      <td>2014-05-06</td>\n",
       "      <td>78000.0</td>\n",
       "      <td>2</td>\n",
       "      <td>1.00</td>\n",
       "      <td>780.0</td>\n",
       "      <td>16344.0</td>\n",
       "      <td>1.0</td>\n",
       "      <td>0</td>\n",
       "      <td>0.0</td>\n",
       "      <td>...</td>\n",
       "      <td>5.0</td>\n",
       "      <td>780.0</td>\n",
       "      <td>0.0</td>\n",
       "      <td>1942.0</td>\n",
       "      <td>0</td>\n",
       "      <td>98168.0</td>\n",
       "      <td>47.4739</td>\n",
       "      <td>-122.280</td>\n",
       "      <td>1700.0</td>\n",
       "      <td>10387.0</td>\n",
       "    </tr>\n",
       "    <tr>\n",
       "      <th>1</th>\n",
       "      <td>8658300340</td>\n",
       "      <td>2014-05-23</td>\n",
       "      <td>80000.0</td>\n",
       "      <td>1</td>\n",
       "      <td>0.75</td>\n",
       "      <td>430.0</td>\n",
       "      <td>5050.0</td>\n",
       "      <td>1.0</td>\n",
       "      <td>0</td>\n",
       "      <td>0.0</td>\n",
       "      <td>...</td>\n",
       "      <td>4.0</td>\n",
       "      <td>430.0</td>\n",
       "      <td>0.0</td>\n",
       "      <td>1912.0</td>\n",
       "      <td>0</td>\n",
       "      <td>98014.0</td>\n",
       "      <td>47.6499</td>\n",
       "      <td>-121.909</td>\n",
       "      <td>1200.0</td>\n",
       "      <td>7500.0</td>\n",
       "    </tr>\n",
       "    <tr>\n",
       "      <th>2</th>\n",
       "      <td>3028200080</td>\n",
       "      <td>2015-03-24</td>\n",
       "      <td>81000.0</td>\n",
       "      <td>2</td>\n",
       "      <td>1.00</td>\n",
       "      <td>730.0</td>\n",
       "      <td>9975.0</td>\n",
       "      <td>1.0</td>\n",
       "      <td>0</td>\n",
       "      <td>0.0</td>\n",
       "      <td>...</td>\n",
       "      <td>5.0</td>\n",
       "      <td>730.0</td>\n",
       "      <td>0.0</td>\n",
       "      <td>1943.0</td>\n",
       "      <td>0</td>\n",
       "      <td>98168.0</td>\n",
       "      <td>47.4808</td>\n",
       "      <td>-122.315</td>\n",
       "      <td>860.0</td>\n",
       "      <td>9000.0</td>\n",
       "    </tr>\n",
       "    <tr>\n",
       "      <th>3</th>\n",
       "      <td>3883800011</td>\n",
       "      <td>2014-11-05</td>\n",
       "      <td>82000.0</td>\n",
       "      <td>3</td>\n",
       "      <td>1.00</td>\n",
       "      <td>860.0</td>\n",
       "      <td>10426.0</td>\n",
       "      <td>1.0</td>\n",
       "      <td>0</td>\n",
       "      <td>0.0</td>\n",
       "      <td>...</td>\n",
       "      <td>6.0</td>\n",
       "      <td>860.0</td>\n",
       "      <td>0.0</td>\n",
       "      <td>1954.0</td>\n",
       "      <td>0</td>\n",
       "      <td>98146.0</td>\n",
       "      <td>47.4987</td>\n",
       "      <td>-122.341</td>\n",
       "      <td>1140.0</td>\n",
       "      <td>11250.0</td>\n",
       "    </tr>\n",
       "    <tr>\n",
       "      <th>4</th>\n",
       "      <td>1623049041</td>\n",
       "      <td>2014-05-08</td>\n",
       "      <td>82500.0</td>\n",
       "      <td>2</td>\n",
       "      <td>1.00</td>\n",
       "      <td>520.0</td>\n",
       "      <td>22334.0</td>\n",
       "      <td>1.0</td>\n",
       "      <td>0</td>\n",
       "      <td>0.0</td>\n",
       "      <td>...</td>\n",
       "      <td>5.0</td>\n",
       "      <td>520.0</td>\n",
       "      <td>0.0</td>\n",
       "      <td>1951.0</td>\n",
       "      <td>0</td>\n",
       "      <td>98168.0</td>\n",
       "      <td>47.4799</td>\n",
       "      <td>-122.296</td>\n",
       "      <td>1572.0</td>\n",
       "      <td>10570.0</td>\n",
       "    </tr>\n",
       "    <tr>\n",
       "      <th>...</th>\n",
       "      <td>...</td>\n",
       "      <td>...</td>\n",
       "      <td>...</td>\n",
       "      <td>...</td>\n",
       "      <td>...</td>\n",
       "      <td>...</td>\n",
       "      <td>...</td>\n",
       "      <td>...</td>\n",
       "      <td>...</td>\n",
       "      <td>...</td>\n",
       "      <td>...</td>\n",
       "      <td>...</td>\n",
       "      <td>...</td>\n",
       "      <td>...</td>\n",
       "      <td>...</td>\n",
       "      <td>...</td>\n",
       "      <td>...</td>\n",
       "      <td>...</td>\n",
       "      <td>...</td>\n",
       "      <td>...</td>\n",
       "      <td>...</td>\n",
       "    </tr>\n",
       "    <tr>\n",
       "      <th>21592</th>\n",
       "      <td>3365900465</td>\n",
       "      <td>2015-02-19</td>\n",
       "      <td>NaN</td>\n",
       "      <td>3</td>\n",
       "      <td>1.50</td>\n",
       "      <td>1370.0</td>\n",
       "      <td>10176.0</td>\n",
       "      <td>1.0</td>\n",
       "      <td>0</td>\n",
       "      <td>0.0</td>\n",
       "      <td>...</td>\n",
       "      <td>6.0</td>\n",
       "      <td>1370.0</td>\n",
       "      <td>0.0</td>\n",
       "      <td>1947.0</td>\n",
       "      <td>0</td>\n",
       "      <td>98168.0</td>\n",
       "      <td>47.4738</td>\n",
       "      <td>-122.263</td>\n",
       "      <td>1650.0</td>\n",
       "      <td>10176.0</td>\n",
       "    </tr>\n",
       "    <tr>\n",
       "      <th>21593</th>\n",
       "      <td>4239400920</td>\n",
       "      <td>2014-09-22</td>\n",
       "      <td>NaN</td>\n",
       "      <td>3</td>\n",
       "      <td>1.00</td>\n",
       "      <td>1090.0</td>\n",
       "      <td>2800.0</td>\n",
       "      <td>1.0</td>\n",
       "      <td>0</td>\n",
       "      <td>0.0</td>\n",
       "      <td>...</td>\n",
       "      <td>6.0</td>\n",
       "      <td>1090.0</td>\n",
       "      <td>0.0</td>\n",
       "      <td>1969.0</td>\n",
       "      <td>0</td>\n",
       "      <td>98092.0</td>\n",
       "      <td>47.3162</td>\n",
       "      <td>-122.183</td>\n",
       "      <td>1040.0</td>\n",
       "      <td>2960.0</td>\n",
       "    </tr>\n",
       "    <tr>\n",
       "      <th>21594</th>\n",
       "      <td>4254000060</td>\n",
       "      <td>2014-10-02</td>\n",
       "      <td>NaN</td>\n",
       "      <td>4</td>\n",
       "      <td>2.75</td>\n",
       "      <td>2530.0</td>\n",
       "      <td>17856.0</td>\n",
       "      <td>2.0</td>\n",
       "      <td>0</td>\n",
       "      <td>0.0</td>\n",
       "      <td>...</td>\n",
       "      <td>8.0</td>\n",
       "      <td>2530.0</td>\n",
       "      <td>0.0</td>\n",
       "      <td>1998.0</td>\n",
       "      <td>0</td>\n",
       "      <td>98019.0</td>\n",
       "      <td>47.7356</td>\n",
       "      <td>-121.959</td>\n",
       "      <td>2530.0</td>\n",
       "      <td>14640.0</td>\n",
       "    </tr>\n",
       "    <tr>\n",
       "      <th>21595</th>\n",
       "      <td>6450303235</td>\n",
       "      <td>2014-08-18</td>\n",
       "      <td>NaN</td>\n",
       "      <td>3</td>\n",
       "      <td>1.50</td>\n",
       "      <td>1320.0</td>\n",
       "      <td>2625.0</td>\n",
       "      <td>2.0</td>\n",
       "      <td>0</td>\n",
       "      <td>0.0</td>\n",
       "      <td>...</td>\n",
       "      <td>7.0</td>\n",
       "      <td>1320.0</td>\n",
       "      <td>0.0</td>\n",
       "      <td>1986.0</td>\n",
       "      <td>0</td>\n",
       "      <td>98133.0</td>\n",
       "      <td>47.7316</td>\n",
       "      <td>-122.338</td>\n",
       "      <td>1230.0</td>\n",
       "      <td>5250.0</td>\n",
       "    </tr>\n",
       "    <tr>\n",
       "      <th>21596</th>\n",
       "      <td>8648220260</td>\n",
       "      <td>2015-03-24</td>\n",
       "      <td>NaN</td>\n",
       "      <td>3</td>\n",
       "      <td>1.75</td>\n",
       "      <td>NaN</td>\n",
       "      <td>9600.0</td>\n",
       "      <td>1.0</td>\n",
       "      <td>0</td>\n",
       "      <td>0.0</td>\n",
       "      <td>...</td>\n",
       "      <td>7.0</td>\n",
       "      <td>1200.0</td>\n",
       "      <td>330.0</td>\n",
       "      <td>1988.0</td>\n",
       "      <td>0</td>\n",
       "      <td>98042.0</td>\n",
       "      <td>47.3594</td>\n",
       "      <td>-122.076</td>\n",
       "      <td>1680.0</td>\n",
       "      <td>9680.0</td>\n",
       "    </tr>\n",
       "  </tbody>\n",
       "</table>\n",
       "<p>21597 rows × 21 columns</p>\n",
       "</div>"
      ],
      "text/plain": [
       "               id       date    price  bedrooms  bathrooms  sqft_living  \\\n",
       "0        40000362 2014-05-06  78000.0         2       1.00        780.0   \n",
       "1      8658300340 2014-05-23  80000.0         1       0.75        430.0   \n",
       "2      3028200080 2015-03-24  81000.0         2       1.00        730.0   \n",
       "3      3883800011 2014-11-05  82000.0         3       1.00        860.0   \n",
       "4      1623049041 2014-05-08  82500.0         2       1.00        520.0   \n",
       "...           ...        ...      ...       ...        ...          ...   \n",
       "21592  3365900465 2015-02-19      NaN         3       1.50       1370.0   \n",
       "21593  4239400920 2014-09-22      NaN         3       1.00       1090.0   \n",
       "21594  4254000060 2014-10-02      NaN         4       2.75       2530.0   \n",
       "21595  6450303235 2014-08-18      NaN         3       1.50       1320.0   \n",
       "21596  8648220260 2015-03-24      NaN         3       1.75          NaN   \n",
       "\n",
       "       sqft_lot  floors  waterfront  view  ...  grade  sqft_above  \\\n",
       "0       16344.0     1.0           0   0.0  ...    5.0       780.0   \n",
       "1        5050.0     1.0           0   0.0  ...    4.0       430.0   \n",
       "2        9975.0     1.0           0   0.0  ...    5.0       730.0   \n",
       "3       10426.0     1.0           0   0.0  ...    6.0       860.0   \n",
       "4       22334.0     1.0           0   0.0  ...    5.0       520.0   \n",
       "...         ...     ...         ...   ...  ...    ...         ...   \n",
       "21592   10176.0     1.0           0   0.0  ...    6.0      1370.0   \n",
       "21593    2800.0     1.0           0   0.0  ...    6.0      1090.0   \n",
       "21594   17856.0     2.0           0   0.0  ...    8.0      2530.0   \n",
       "21595    2625.0     2.0           0   0.0  ...    7.0      1320.0   \n",
       "21596    9600.0     1.0           0   0.0  ...    7.0      1200.0   \n",
       "\n",
       "       sqft_basement  yr_built  yr_renovated  zipcode      lat     long  \\\n",
       "0                0.0    1942.0             0  98168.0  47.4739 -122.280   \n",
       "1                0.0    1912.0             0  98014.0  47.6499 -121.909   \n",
       "2                0.0    1943.0             0  98168.0  47.4808 -122.315   \n",
       "3                0.0    1954.0             0  98146.0  47.4987 -122.341   \n",
       "4                0.0    1951.0             0  98168.0  47.4799 -122.296   \n",
       "...              ...       ...           ...      ...      ...      ...   \n",
       "21592            0.0    1947.0             0  98168.0  47.4738 -122.263   \n",
       "21593            0.0    1969.0             0  98092.0  47.3162 -122.183   \n",
       "21594            0.0    1998.0             0  98019.0  47.7356 -121.959   \n",
       "21595            0.0    1986.0             0  98133.0  47.7316 -122.338   \n",
       "21596          330.0    1988.0             0  98042.0  47.3594 -122.076   \n",
       "\n",
       "       sqft_living15  sqft_lot15  \n",
       "0             1700.0     10387.0  \n",
       "1             1200.0      7500.0  \n",
       "2              860.0      9000.0  \n",
       "3             1140.0     11250.0  \n",
       "4             1572.0     10570.0  \n",
       "...              ...         ...  \n",
       "21592         1650.0     10176.0  \n",
       "21593         1040.0      2960.0  \n",
       "21594         2530.0     14640.0  \n",
       "21595         1230.0      5250.0  \n",
       "21596         1680.0      9680.0  \n",
       "\n",
       "[21597 rows x 21 columns]"
      ]
     },
     "metadata": {},
     "output_type": "display_data"
    }
   ],
   "source": [
    "import pandas as pd\n",
    "import pingouin as pg\n",
    "import numpy as np\n",
    "import datetime\n",
    "import seaborn as sns\n",
    "import matplotlib.pyplot as plt\n",
    "import statsmodels.api as sm\n",
    "from matplotlib.ticker import MultipleLocator\n",
    "from scipy.stats import norm, shapiro, anderson, kstest\n",
    "from sklearn import linear_model\n",
    "%matplotlib inline\n",
    "\n",
    "# Read the data into Python\n",
    "df = pd.read_excel('house_data.xlsx')\n",
    "\n",
    "# Display the data\n",
    "display(df)\n"
   ]
  },
  {
   "cell_type": "markdown",
   "id": "186afcf3",
   "metadata": {},
   "source": [
    "#### Some cleaning"
   ]
  },
  {
   "cell_type": "markdown",
   "id": "bf30d94e",
   "metadata": {},
   "source": [
    "So we can right away see that there is some wrong format in the data. For example, the 'bathrooms' and 'floors' columns have decimal places, when they clearly should be an intger. Before fixing this, let's remove all duplicates and make sure all dates are in the same format."
   ]
  },
  {
   "cell_type": "code",
   "execution_count": 2,
   "id": "e99806aa",
   "metadata": {},
   "outputs": [
    {
     "name": "stdout",
     "output_type": "stream",
     "text": [
      "All good\n"
     ]
    },
    {
     "data": {
      "text/html": [
       "<div>\n",
       "<style scoped>\n",
       "    .dataframe tbody tr th:only-of-type {\n",
       "        vertical-align: middle;\n",
       "    }\n",
       "\n",
       "    .dataframe tbody tr th {\n",
       "        vertical-align: top;\n",
       "    }\n",
       "\n",
       "    .dataframe thead th {\n",
       "        text-align: right;\n",
       "    }\n",
       "</style>\n",
       "<table border=\"1\" class=\"dataframe\">\n",
       "  <thead>\n",
       "    <tr style=\"text-align: right;\">\n",
       "      <th></th>\n",
       "      <th>id</th>\n",
       "      <th>date</th>\n",
       "      <th>price</th>\n",
       "      <th>bedrooms</th>\n",
       "      <th>bathrooms</th>\n",
       "      <th>sqft_living</th>\n",
       "      <th>sqft_lot</th>\n",
       "      <th>floors</th>\n",
       "      <th>waterfront</th>\n",
       "      <th>view</th>\n",
       "      <th>...</th>\n",
       "      <th>grade</th>\n",
       "      <th>sqft_above</th>\n",
       "      <th>sqft_basement</th>\n",
       "      <th>yr_built</th>\n",
       "      <th>yr_renovated</th>\n",
       "      <th>zipcode</th>\n",
       "      <th>lat</th>\n",
       "      <th>long</th>\n",
       "      <th>sqft_living15</th>\n",
       "      <th>sqft_lot15</th>\n",
       "    </tr>\n",
       "  </thead>\n",
       "  <tbody>\n",
       "    <tr>\n",
       "      <th>0</th>\n",
       "      <td>40000362</td>\n",
       "      <td>2014-05-06</td>\n",
       "      <td>78000.0</td>\n",
       "      <td>2</td>\n",
       "      <td>1.00</td>\n",
       "      <td>780.0</td>\n",
       "      <td>16344.0</td>\n",
       "      <td>1.0</td>\n",
       "      <td>0</td>\n",
       "      <td>0.0</td>\n",
       "      <td>...</td>\n",
       "      <td>5.0</td>\n",
       "      <td>780.0</td>\n",
       "      <td>0.0</td>\n",
       "      <td>1942.0</td>\n",
       "      <td>0</td>\n",
       "      <td>98168.0</td>\n",
       "      <td>47.4739</td>\n",
       "      <td>-122.280</td>\n",
       "      <td>1700.0</td>\n",
       "      <td>10387.0</td>\n",
       "    </tr>\n",
       "    <tr>\n",
       "      <th>1</th>\n",
       "      <td>8658300340</td>\n",
       "      <td>2014-05-23</td>\n",
       "      <td>80000.0</td>\n",
       "      <td>1</td>\n",
       "      <td>0.75</td>\n",
       "      <td>430.0</td>\n",
       "      <td>5050.0</td>\n",
       "      <td>1.0</td>\n",
       "      <td>0</td>\n",
       "      <td>0.0</td>\n",
       "      <td>...</td>\n",
       "      <td>4.0</td>\n",
       "      <td>430.0</td>\n",
       "      <td>0.0</td>\n",
       "      <td>1912.0</td>\n",
       "      <td>0</td>\n",
       "      <td>98014.0</td>\n",
       "      <td>47.6499</td>\n",
       "      <td>-121.909</td>\n",
       "      <td>1200.0</td>\n",
       "      <td>7500.0</td>\n",
       "    </tr>\n",
       "    <tr>\n",
       "      <th>2</th>\n",
       "      <td>3028200080</td>\n",
       "      <td>2015-03-24</td>\n",
       "      <td>81000.0</td>\n",
       "      <td>2</td>\n",
       "      <td>1.00</td>\n",
       "      <td>730.0</td>\n",
       "      <td>9975.0</td>\n",
       "      <td>1.0</td>\n",
       "      <td>0</td>\n",
       "      <td>0.0</td>\n",
       "      <td>...</td>\n",
       "      <td>5.0</td>\n",
       "      <td>730.0</td>\n",
       "      <td>0.0</td>\n",
       "      <td>1943.0</td>\n",
       "      <td>0</td>\n",
       "      <td>98168.0</td>\n",
       "      <td>47.4808</td>\n",
       "      <td>-122.315</td>\n",
       "      <td>860.0</td>\n",
       "      <td>9000.0</td>\n",
       "    </tr>\n",
       "    <tr>\n",
       "      <th>3</th>\n",
       "      <td>3883800011</td>\n",
       "      <td>2014-11-05</td>\n",
       "      <td>82000.0</td>\n",
       "      <td>3</td>\n",
       "      <td>1.00</td>\n",
       "      <td>860.0</td>\n",
       "      <td>10426.0</td>\n",
       "      <td>1.0</td>\n",
       "      <td>0</td>\n",
       "      <td>0.0</td>\n",
       "      <td>...</td>\n",
       "      <td>6.0</td>\n",
       "      <td>860.0</td>\n",
       "      <td>0.0</td>\n",
       "      <td>1954.0</td>\n",
       "      <td>0</td>\n",
       "      <td>98146.0</td>\n",
       "      <td>47.4987</td>\n",
       "      <td>-122.341</td>\n",
       "      <td>1140.0</td>\n",
       "      <td>11250.0</td>\n",
       "    </tr>\n",
       "    <tr>\n",
       "      <th>4</th>\n",
       "      <td>1623049041</td>\n",
       "      <td>2014-05-08</td>\n",
       "      <td>82500.0</td>\n",
       "      <td>2</td>\n",
       "      <td>1.00</td>\n",
       "      <td>520.0</td>\n",
       "      <td>22334.0</td>\n",
       "      <td>1.0</td>\n",
       "      <td>0</td>\n",
       "      <td>0.0</td>\n",
       "      <td>...</td>\n",
       "      <td>5.0</td>\n",
       "      <td>520.0</td>\n",
       "      <td>0.0</td>\n",
       "      <td>1951.0</td>\n",
       "      <td>0</td>\n",
       "      <td>98168.0</td>\n",
       "      <td>47.4799</td>\n",
       "      <td>-122.296</td>\n",
       "      <td>1572.0</td>\n",
       "      <td>10570.0</td>\n",
       "    </tr>\n",
       "    <tr>\n",
       "      <th>...</th>\n",
       "      <td>...</td>\n",
       "      <td>...</td>\n",
       "      <td>...</td>\n",
       "      <td>...</td>\n",
       "      <td>...</td>\n",
       "      <td>...</td>\n",
       "      <td>...</td>\n",
       "      <td>...</td>\n",
       "      <td>...</td>\n",
       "      <td>...</td>\n",
       "      <td>...</td>\n",
       "      <td>...</td>\n",
       "      <td>...</td>\n",
       "      <td>...</td>\n",
       "      <td>...</td>\n",
       "      <td>...</td>\n",
       "      <td>...</td>\n",
       "      <td>...</td>\n",
       "      <td>...</td>\n",
       "      <td>...</td>\n",
       "      <td>...</td>\n",
       "    </tr>\n",
       "    <tr>\n",
       "      <th>21592</th>\n",
       "      <td>3365900465</td>\n",
       "      <td>2015-02-19</td>\n",
       "      <td>NaN</td>\n",
       "      <td>3</td>\n",
       "      <td>1.50</td>\n",
       "      <td>1370.0</td>\n",
       "      <td>10176.0</td>\n",
       "      <td>1.0</td>\n",
       "      <td>0</td>\n",
       "      <td>0.0</td>\n",
       "      <td>...</td>\n",
       "      <td>6.0</td>\n",
       "      <td>1370.0</td>\n",
       "      <td>0.0</td>\n",
       "      <td>1947.0</td>\n",
       "      <td>0</td>\n",
       "      <td>98168.0</td>\n",
       "      <td>47.4738</td>\n",
       "      <td>-122.263</td>\n",
       "      <td>1650.0</td>\n",
       "      <td>10176.0</td>\n",
       "    </tr>\n",
       "    <tr>\n",
       "      <th>21593</th>\n",
       "      <td>4239400920</td>\n",
       "      <td>2014-09-22</td>\n",
       "      <td>NaN</td>\n",
       "      <td>3</td>\n",
       "      <td>1.00</td>\n",
       "      <td>1090.0</td>\n",
       "      <td>2800.0</td>\n",
       "      <td>1.0</td>\n",
       "      <td>0</td>\n",
       "      <td>0.0</td>\n",
       "      <td>...</td>\n",
       "      <td>6.0</td>\n",
       "      <td>1090.0</td>\n",
       "      <td>0.0</td>\n",
       "      <td>1969.0</td>\n",
       "      <td>0</td>\n",
       "      <td>98092.0</td>\n",
       "      <td>47.3162</td>\n",
       "      <td>-122.183</td>\n",
       "      <td>1040.0</td>\n",
       "      <td>2960.0</td>\n",
       "    </tr>\n",
       "    <tr>\n",
       "      <th>21594</th>\n",
       "      <td>4254000060</td>\n",
       "      <td>2014-10-02</td>\n",
       "      <td>NaN</td>\n",
       "      <td>4</td>\n",
       "      <td>2.75</td>\n",
       "      <td>2530.0</td>\n",
       "      <td>17856.0</td>\n",
       "      <td>2.0</td>\n",
       "      <td>0</td>\n",
       "      <td>0.0</td>\n",
       "      <td>...</td>\n",
       "      <td>8.0</td>\n",
       "      <td>2530.0</td>\n",
       "      <td>0.0</td>\n",
       "      <td>1998.0</td>\n",
       "      <td>0</td>\n",
       "      <td>98019.0</td>\n",
       "      <td>47.7356</td>\n",
       "      <td>-121.959</td>\n",
       "      <td>2530.0</td>\n",
       "      <td>14640.0</td>\n",
       "    </tr>\n",
       "    <tr>\n",
       "      <th>21595</th>\n",
       "      <td>6450303235</td>\n",
       "      <td>2014-08-18</td>\n",
       "      <td>NaN</td>\n",
       "      <td>3</td>\n",
       "      <td>1.50</td>\n",
       "      <td>1320.0</td>\n",
       "      <td>2625.0</td>\n",
       "      <td>2.0</td>\n",
       "      <td>0</td>\n",
       "      <td>0.0</td>\n",
       "      <td>...</td>\n",
       "      <td>7.0</td>\n",
       "      <td>1320.0</td>\n",
       "      <td>0.0</td>\n",
       "      <td>1986.0</td>\n",
       "      <td>0</td>\n",
       "      <td>98133.0</td>\n",
       "      <td>47.7316</td>\n",
       "      <td>-122.338</td>\n",
       "      <td>1230.0</td>\n",
       "      <td>5250.0</td>\n",
       "    </tr>\n",
       "    <tr>\n",
       "      <th>21596</th>\n",
       "      <td>8648220260</td>\n",
       "      <td>2015-03-24</td>\n",
       "      <td>NaN</td>\n",
       "      <td>3</td>\n",
       "      <td>1.75</td>\n",
       "      <td>NaN</td>\n",
       "      <td>9600.0</td>\n",
       "      <td>1.0</td>\n",
       "      <td>0</td>\n",
       "      <td>0.0</td>\n",
       "      <td>...</td>\n",
       "      <td>7.0</td>\n",
       "      <td>1200.0</td>\n",
       "      <td>330.0</td>\n",
       "      <td>1988.0</td>\n",
       "      <td>0</td>\n",
       "      <td>98042.0</td>\n",
       "      <td>47.3594</td>\n",
       "      <td>-122.076</td>\n",
       "      <td>1680.0</td>\n",
       "      <td>9680.0</td>\n",
       "    </tr>\n",
       "  </tbody>\n",
       "</table>\n",
       "<p>21597 rows × 21 columns</p>\n",
       "</div>"
      ],
      "text/plain": [
       "               id       date    price  bedrooms  bathrooms  sqft_living  \\\n",
       "0        40000362 2014-05-06  78000.0         2       1.00        780.0   \n",
       "1      8658300340 2014-05-23  80000.0         1       0.75        430.0   \n",
       "2      3028200080 2015-03-24  81000.0         2       1.00        730.0   \n",
       "3      3883800011 2014-11-05  82000.0         3       1.00        860.0   \n",
       "4      1623049041 2014-05-08  82500.0         2       1.00        520.0   \n",
       "...           ...        ...      ...       ...        ...          ...   \n",
       "21592  3365900465 2015-02-19      NaN         3       1.50       1370.0   \n",
       "21593  4239400920 2014-09-22      NaN         3       1.00       1090.0   \n",
       "21594  4254000060 2014-10-02      NaN         4       2.75       2530.0   \n",
       "21595  6450303235 2014-08-18      NaN         3       1.50       1320.0   \n",
       "21596  8648220260 2015-03-24      NaN         3       1.75          NaN   \n",
       "\n",
       "       sqft_lot  floors  waterfront  view  ...  grade  sqft_above  \\\n",
       "0       16344.0     1.0           0   0.0  ...    5.0       780.0   \n",
       "1        5050.0     1.0           0   0.0  ...    4.0       430.0   \n",
       "2        9975.0     1.0           0   0.0  ...    5.0       730.0   \n",
       "3       10426.0     1.0           0   0.0  ...    6.0       860.0   \n",
       "4       22334.0     1.0           0   0.0  ...    5.0       520.0   \n",
       "...         ...     ...         ...   ...  ...    ...         ...   \n",
       "21592   10176.0     1.0           0   0.0  ...    6.0      1370.0   \n",
       "21593    2800.0     1.0           0   0.0  ...    6.0      1090.0   \n",
       "21594   17856.0     2.0           0   0.0  ...    8.0      2530.0   \n",
       "21595    2625.0     2.0           0   0.0  ...    7.0      1320.0   \n",
       "21596    9600.0     1.0           0   0.0  ...    7.0      1200.0   \n",
       "\n",
       "       sqft_basement  yr_built  yr_renovated  zipcode      lat     long  \\\n",
       "0                0.0    1942.0             0  98168.0  47.4739 -122.280   \n",
       "1                0.0    1912.0             0  98014.0  47.6499 -121.909   \n",
       "2                0.0    1943.0             0  98168.0  47.4808 -122.315   \n",
       "3                0.0    1954.0             0  98146.0  47.4987 -122.341   \n",
       "4                0.0    1951.0             0  98168.0  47.4799 -122.296   \n",
       "...              ...       ...           ...      ...      ...      ...   \n",
       "21592            0.0    1947.0             0  98168.0  47.4738 -122.263   \n",
       "21593            0.0    1969.0             0  98092.0  47.3162 -122.183   \n",
       "21594            0.0    1998.0             0  98019.0  47.7356 -121.959   \n",
       "21595            0.0    1986.0             0  98133.0  47.7316 -122.338   \n",
       "21596          330.0    1988.0             0  98042.0  47.3594 -122.076   \n",
       "\n",
       "       sqft_living15  sqft_lot15  \n",
       "0             1700.0     10387.0  \n",
       "1             1200.0      7500.0  \n",
       "2              860.0      9000.0  \n",
       "3             1140.0     11250.0  \n",
       "4             1572.0     10570.0  \n",
       "...              ...         ...  \n",
       "21592         1650.0     10176.0  \n",
       "21593         1040.0      2960.0  \n",
       "21594         2530.0     14640.0  \n",
       "21595         1230.0      5250.0  \n",
       "21596         1680.0      9680.0  \n",
       "\n",
       "[21597 rows x 21 columns]"
      ]
     },
     "execution_count": 2,
     "metadata": {},
     "output_type": "execute_result"
    }
   ],
   "source": [
    "# Prints 'All good' if all the dates are in the same format\n",
    "if pd.to_datetime(df['date'], format='%Y-%m-%d', errors='coerce').notnull().all():\n",
    "    print('All good')\n",
    "    \n",
    "# Remove duplicates\n",
    "df.drop_duplicates()"
   ]
  },
  {
   "cell_type": "markdown",
   "id": "6f9338b0",
   "metadata": {},
   "source": [
    "Now we round up the values of the 'bathrooms' and 'floors' variables."
   ]
  },
  {
   "cell_type": "code",
   "execution_count": 3,
   "id": "0e95ff64",
   "metadata": {
    "scrolled": true
   },
   "outputs": [
    {
     "data": {
      "text/plain": [
       "0        1.0\n",
       "1        1.0\n",
       "2        1.0\n",
       "3        1.0\n",
       "4        1.0\n",
       "        ... \n",
       "21592    2.0\n",
       "21593    1.0\n",
       "21594    3.0\n",
       "21595    2.0\n",
       "21596    2.0\n",
       "Name: bathrooms, Length: 21597, dtype: float64"
      ]
     },
     "execution_count": 3,
     "metadata": {},
     "output_type": "execute_result"
    }
   ],
   "source": [
    "df['bathrooms'].apply(np.ceil, inplace=True)"
   ]
  },
  {
   "cell_type": "markdown",
   "id": "cb394848",
   "metadata": {},
   "source": [
    "The question we are interested in for this particular analysis is: What are the characteristics of a house that impact its price the most? "
   ]
  },
  {
   "cell_type": "markdown",
   "id": "fee47106",
   "metadata": {},
   "source": [
    "To answer this, we need only a few variables of what was initially provided. A literature review (see Amirhosein Jafari, Reza Akhavian, (2019) \"Driving forces for the US residential housing price: a predictive analysis\", Built Environment Project and Asset Management, https://doi.org/10.1108/BEPAM-07-2018-0100 and Marija Buriskiene, Vitalija Rutzkiene and Jurate Venckauskaite (2011). Models of factors influencing real state price. Environmental engineering. p. 873-878) suggest that variables related to number of bedrooms, bathrooms, area and location are the most crucial ones. Therefore we drop, albeit momentarily the others. "
   ]
  },
  {
   "cell_type": "code",
   "execution_count": 4,
   "id": "6cde2364",
   "metadata": {},
   "outputs": [
    {
     "data": {
      "text/html": [
       "<div>\n",
       "<style scoped>\n",
       "    .dataframe tbody tr th:only-of-type {\n",
       "        vertical-align: middle;\n",
       "    }\n",
       "\n",
       "    .dataframe tbody tr th {\n",
       "        vertical-align: top;\n",
       "    }\n",
       "\n",
       "    .dataframe thead th {\n",
       "        text-align: right;\n",
       "    }\n",
       "</style>\n",
       "<table border=\"1\" class=\"dataframe\">\n",
       "  <thead>\n",
       "    <tr style=\"text-align: right;\">\n",
       "      <th></th>\n",
       "      <th>price</th>\n",
       "      <th>bedrooms</th>\n",
       "      <th>bathrooms</th>\n",
       "      <th>sqft_living</th>\n",
       "      <th>yr_built</th>\n",
       "      <th>zipcode</th>\n",
       "      <th>sqft_living15</th>\n",
       "      <th>sqft_lot15</th>\n",
       "    </tr>\n",
       "  </thead>\n",
       "  <tbody>\n",
       "    <tr>\n",
       "      <th>count</th>\n",
       "      <td>2.158800e+04</td>\n",
       "      <td>21597.000000</td>\n",
       "      <td>21596.000000</td>\n",
       "      <td>21587.000000</td>\n",
       "      <td>21591.000000</td>\n",
       "      <td>21590.000000</td>\n",
       "      <td>21590.000000</td>\n",
       "      <td>21589.000000</td>\n",
       "    </tr>\n",
       "    <tr>\n",
       "      <th>mean</th>\n",
       "      <td>5.403828e+05</td>\n",
       "      <td>3.374867</td>\n",
       "      <td>2.115843</td>\n",
       "      <td>2080.185343</td>\n",
       "      <td>1970.997545</td>\n",
       "      <td>98077.950023</td>\n",
       "      <td>1986.586336</td>\n",
       "      <td>12761.042058</td>\n",
       "    </tr>\n",
       "    <tr>\n",
       "      <th>std</th>\n",
       "      <td>3.674052e+05</td>\n",
       "      <td>0.959233</td>\n",
       "      <td>0.768998</td>\n",
       "      <td>917.968337</td>\n",
       "      <td>29.377081</td>\n",
       "      <td>53.512502</td>\n",
       "      <td>685.295720</td>\n",
       "      <td>27279.086799</td>\n",
       "    </tr>\n",
       "    <tr>\n",
       "      <th>min</th>\n",
       "      <td>7.800000e+04</td>\n",
       "      <td>1.000000</td>\n",
       "      <td>0.500000</td>\n",
       "      <td>370.000000</td>\n",
       "      <td>1900.000000</td>\n",
       "      <td>98001.000000</td>\n",
       "      <td>399.000000</td>\n",
       "      <td>651.000000</td>\n",
       "    </tr>\n",
       "    <tr>\n",
       "      <th>25%</th>\n",
       "      <td>3.220000e+05</td>\n",
       "      <td>3.000000</td>\n",
       "      <td>1.750000</td>\n",
       "      <td>1430.000000</td>\n",
       "      <td>1951.000000</td>\n",
       "      <td>98033.000000</td>\n",
       "      <td>1490.000000</td>\n",
       "      <td>5100.000000</td>\n",
       "    </tr>\n",
       "    <tr>\n",
       "      <th>50%</th>\n",
       "      <td>4.500000e+05</td>\n",
       "      <td>3.000000</td>\n",
       "      <td>2.250000</td>\n",
       "      <td>1910.000000</td>\n",
       "      <td>1975.000000</td>\n",
       "      <td>98065.000000</td>\n",
       "      <td>1840.000000</td>\n",
       "      <td>7620.000000</td>\n",
       "    </tr>\n",
       "    <tr>\n",
       "      <th>75%</th>\n",
       "      <td>6.450000e+05</td>\n",
       "      <td>4.000000</td>\n",
       "      <td>2.500000</td>\n",
       "      <td>2550.000000</td>\n",
       "      <td>1997.000000</td>\n",
       "      <td>98118.000000</td>\n",
       "      <td>2360.000000</td>\n",
       "      <td>10083.000000</td>\n",
       "    </tr>\n",
       "    <tr>\n",
       "      <th>max</th>\n",
       "      <td>7.700000e+06</td>\n",
       "      <td>40.000000</td>\n",
       "      <td>8.000000</td>\n",
       "      <td>13540.000000</td>\n",
       "      <td>2015.000000</td>\n",
       "      <td>98199.000000</td>\n",
       "      <td>6210.000000</td>\n",
       "      <td>871200.000000</td>\n",
       "    </tr>\n",
       "  </tbody>\n",
       "</table>\n",
       "</div>"
      ],
      "text/plain": [
       "              price      bedrooms     bathrooms   sqft_living      yr_built  \\\n",
       "count  2.158800e+04  21597.000000  21596.000000  21587.000000  21591.000000   \n",
       "mean   5.403828e+05      3.374867      2.115843   2080.185343   1970.997545   \n",
       "std    3.674052e+05      0.959233      0.768998    917.968337     29.377081   \n",
       "min    7.800000e+04      1.000000      0.500000    370.000000   1900.000000   \n",
       "25%    3.220000e+05      3.000000      1.750000   1430.000000   1951.000000   \n",
       "50%    4.500000e+05      3.000000      2.250000   1910.000000   1975.000000   \n",
       "75%    6.450000e+05      4.000000      2.500000   2550.000000   1997.000000   \n",
       "max    7.700000e+06     40.000000      8.000000  13540.000000   2015.000000   \n",
       "\n",
       "            zipcode  sqft_living15     sqft_lot15  \n",
       "count  21590.000000   21590.000000   21589.000000  \n",
       "mean   98077.950023    1986.586336   12761.042058  \n",
       "std       53.512502     685.295720   27279.086799  \n",
       "min    98001.000000     399.000000     651.000000  \n",
       "25%    98033.000000    1490.000000    5100.000000  \n",
       "50%    98065.000000    1840.000000    7620.000000  \n",
       "75%    98118.000000    2360.000000   10083.000000  \n",
       "max    98199.000000    6210.000000  871200.000000  "
      ]
     },
     "execution_count": 4,
     "metadata": {},
     "output_type": "execute_result"
    }
   ],
   "source": [
    "df.drop(columns=[\"id\", \"date\", \"floors\", \"waterfront\", \"view\", \n",
    "                \"yr_renovated\", \"lat\", \"long\", \"grade\", \"condition\", \"sqft_above\", \"sqft_basement\", \"sqft_lot\"], inplace=True)\n",
    "df.describe()"
   ]
  },
  {
   "cell_type": "markdown",
   "id": "174d4070",
   "metadata": {},
   "source": [
    "Next we analyze missing values. First let's find out how many are there. "
   ]
  },
  {
   "cell_type": "code",
   "execution_count": 5,
   "id": "e6ae1d8f",
   "metadata": {},
   "outputs": [
    {
     "name": "stdout",
     "output_type": "stream",
     "text": [
      "Missing values price variable:  9\n",
      "Missing values bedrooms variable:  0\n",
      "Missing values bathrooms variable:  1\n",
      "Missing values sqft_living variable:  10\n",
      "Missing values yr_built variable:  6\n",
      "Missing values zipcode variable:  7\n",
      "Missing values sqft_living15 variable:  7\n",
      "Missing values sqft_lot15 variable:  8\n"
     ]
    }
   ],
   "source": [
    "print(\"Missing values price variable: \", df['price'].isnull().sum())\n",
    "print(\"Missing values bedrooms variable: \", df['bedrooms'].isnull().sum())\n",
    "print(\"Missing values bathrooms variable: \", df['bathrooms'].isnull().sum())\n",
    "print(\"Missing values sqft_living variable: \", df['sqft_living'].isnull().sum())\n",
    "print(\"Missing values yr_built variable: \", df['yr_built'].isnull().sum())\n",
    "print(\"Missing values zipcode variable: \", df['zipcode'].isnull().sum())\n",
    "print(\"Missing values sqft_living15 variable: \", df['sqft_living15'].isnull().sum())\n",
    "print(\"Missing values sqft_lot15 variable: \", df['sqft_lot15'].isnull().sum())"
   ]
  },
  {
   "cell_type": "markdown",
   "id": "812081aa",
   "metadata": {},
   "source": [
    "We see that, when compared to the 21598 total values, the missing values are under 1% and can be replaced by the median."
   ]
  },
  {
   "cell_type": "code",
   "execution_count": 6,
   "id": "557372ae",
   "metadata": {},
   "outputs": [],
   "source": [
    "df['price'].replace(np.nan, df['price'].median(), inplace=True)\n",
    "df['bedrooms'].replace(np.nan, df['price'].median(), inplace=True)\n",
    "df['bathrooms'].replace(np.nan, df['sqft_living15'].median(), inplace=True)\n",
    "df['sqft_living'].replace(np.nan, df['sqft_lot15'].median(), inplace=True)\n",
    "df['yr_built'].replace(np.nan, df['price'].median(), inplace=True)\n",
    "df['zipcode'].replace(np.nan, df['sqft_living15'].median(), inplace=True)\n",
    "df['sqft_living15'].replace(np.nan, df['sqft_living15'].median(), inplace=True)\n",
    "df['sqft_lot15'].replace(np.nan, df['sqft_lot15'].median(), inplace=True)"
   ]
  },
  {
   "cell_type": "markdown",
   "id": "5e893883",
   "metadata": {},
   "source": [
    "### Exploratory analysis"
   ]
  },
  {
   "cell_type": "code",
   "execution_count": 7,
   "id": "a5eb836b",
   "metadata": {},
   "outputs": [
    {
     "data": {
      "image/png": "[encoded data removed]",
      "text/plain": [
       "<Figure size 504x504 with 1 Axes>"
      ]
     },
     "metadata": {
      "needs_background": "light"
     },
     "output_type": "display_data"
    }
   ],
   "source": [
    "fig, axs = plt.subplots(nrows=1, ncols=1, figsize=(7,7))\n",
    "axs.hist(x=df['yr_built'], bins=50, density=True, label='Empirical distribution')\n",
    "axs.legend()\n",
    "axs.set_xlabel('Year built', fontsize=16)\n",
    "axs.set_title('Year built')\n",
    "axs.tick_params(labelsize=14)"
   ]
  },
  {
   "cell_type": "markdown",
   "id": "d19e8e45",
   "metadata": {},
   "source": [
    "Now for some exploratory analysis."
   ]
  },
  {
   "cell_type": "code",
   "execution_count": 13,
   "id": "6ba73457",
   "metadata": {},
   "outputs": [
    {
     "data": {
      "image/png": "[encoded data removed]",
      "text/plain": [
       "<Figure size 1440x720 with 2 Axes>"
      ]
     },
     "metadata": {
      "needs_background": "light"
     },
     "output_type": "display_data"
    }
   ],
   "source": [
    "fig, axs = plt.subplots(nrows=1, ncols=2, figsize=(20,10))\n",
    "sns.boxplot(data=df['price'], ax=axs[0])\n",
    "sns.boxplot(data=df['sqft_living'], ax=axs[1])\n",
    "axs[0].set_title(\"Price\", fontsize=16)\n",
    "axs[1].set_title(\"Area of the house\", fontsize=16)\n",
    "plt.tick_params(axis='y', labelsize=14)"
   ]
  },
  {
   "cell_type": "markdown",
   "id": "9fbf71e2",
   "metadata": {},
   "source": [
    "By the looks of it, the price and are variables are both rightly skewed, and far from normality. Let's investigate this further."
   ]
  },
  {
   "cell_type": "code",
   "execution_count": 14,
   "id": "56516ed4",
   "metadata": {
    "scrolled": true
   },
   "outputs": [
    {
     "data": {
      "image/png": "[encoded data removed]",
      "text/plain": [
       "<Figure size 1008x504 with 2 Axes>"
      ]
     },
     "metadata": {
      "needs_background": "light"
     },
     "output_type": "display_data"
    }
   ],
   "source": [
    "x0 = np.arange(df['price'].min(),df['price'].max(), 2)\n",
    "x1 = np.arange(df['sqft_living'].min(),df['sqft_living'].max(), 2)\n",
    "\n",
    "fig, axs = plt.subplots(nrows=1, ncols=2, figsize=(14,7))\n",
    "axs[0].hist(x=df['price'], bins=200, density=True, label='Empirical distribution')\n",
    "axs[0].plot(x0, 1.8*norm.pdf(x0, df['price'].mean(), df['price'].std()), label='Normal distribution')\n",
    "axs[0].legend()\n",
    "axs[0].set_xlabel('Price', fontsize=16)\n",
    "axs[0].set_title('Price')\n",
    "axs[0].tick_params(labelsize=14)\n",
    "\n",
    "axs[1].hist(x=df['sqft_living'], bins=200, density=True, label='Empirical distribution')\n",
    "axs[1].plot(x1, norm.pdf(x1, df['sqft_living'].mean(), df['sqft_living'].std()), label='Normal distribution')\n",
    "axs[1].legend()\n",
    "axs[1].set_title('Area of the house')\n",
    "\n",
    "plt.show()"
   ]
  },
  {
   "cell_type": "markdown",
   "id": "3ae97811",
   "metadata": {},
   "source": [
    "Looks like the price variable is very far from normality, but not so the area variable. Let's check this further."
   ]
  },
  {
   "cell_type": "markdown",
   "id": "ecfdc2f4",
   "metadata": {},
   "source": [
    "### Normality tests"
   ]
  },
  {
   "cell_type": "code",
   "execution_count": 15,
   "id": "9c03fe44",
   "metadata": {},
   "outputs": [
    {
     "data": {
      "text/plain": [
       "<Figure size 504x504 with 0 Axes>"
      ]
     },
     "metadata": {},
     "output_type": "display_data"
    },
    {
     "data": {
      "image/png": "[encoded data removed]",
      "text/plain": [
       "<Figure size 432x288 with 1 Axes>"
      ]
     },
     "metadata": {
      "needs_background": "light"
     },
     "output_type": "display_data"
    }
   ],
   "source": [
    "std_price = (df['price'] - df['price'].mean()) / df['price'].std()\n",
    "\n",
    "fig = plt.figure(figsize=(7,7))\n",
    "sm.qqplot(data=std_price, line ='45')\n",
    "plt.xlabel('Distribution quantiles', fontsize=16)\n",
    "plt.ylabel('Sample quantiles', fontsize=16)\n",
    "plt.title ('Q-Q plot', fontsize=16)\n",
    "plt.tick_params(labelsize=14)\n",
    "plt.savefig('qq_price.jpg')\n",
    "plt.show()"
   ]
  },
  {
   "cell_type": "code",
   "execution_count": 16,
   "id": "d7fd621a",
   "metadata": {},
   "outputs": [
    {
     "data": {
      "text/plain": [
       "<Figure size 504x504 with 0 Axes>"
      ]
     },
     "metadata": {},
     "output_type": "display_data"
    },
    {
     "data": {
      "image/png": "[encoded data removed]",
      "text/plain": [
       "<Figure size 432x288 with 1 Axes>"
      ]
     },
     "metadata": {
      "needs_background": "light"
     },
     "output_type": "display_data"
    }
   ],
   "source": [
    "fig = plt.figure(figsize=(7,7))\n",
    "pplot = sm.ProbPlot(std_price).ppplot(line='45')\n",
    "plt.title('P-P plot', fontsize=16)\n",
    "plt.xlabel('Distribution Probabilities', fontsize=16)\n",
    "plt.ylabel('Sample Probabilities', fontsize=16)\n",
    "plt.tick_params(labelsize=14)\n",
    "plt.show()"
   ]
  },
  {
   "cell_type": "code",
   "execution_count": 17,
   "id": "33fc8401",
   "metadata": {},
   "outputs": [
    {
     "name": "stdout",
     "output_type": "stream",
     "text": [
      "Price variable skewness is: 4.024309960669534\n",
      "Price variable kurtosis is: 34.55330814843405\n"
     ]
    }
   ],
   "source": [
    "price_skew = df['price'].skew()\n",
    "price_kurt = df['price'].kurtosis()\n",
    "print(f'Price variable skewness is: {price_skew}')\n",
    "print(f'Price variable kurtosis is: {price_kurt}') "
   ]
  },
  {
   "cell_type": "code",
   "execution_count": 18,
   "id": "d87f55bc",
   "metadata": {},
   "outputs": [
    {
     "name": "stderr",
     "output_type": "stream",
     "text": [
      "C:\\Users\\migue\\anaconda3\\lib\\site-packages\\scipy\\stats\\morestats.py:1760: UserWarning: p-value may not be accurate for N > 5000.\n",
      "  warnings.warn(\"p-value may not be accurate for N > 5000.\")\n"
     ]
    },
    {
     "data": {
      "text/plain": [
       "ShapiroResult(statistic=0.7116794586181641, pvalue=0.0)"
      ]
     },
     "execution_count": 18,
     "metadata": {},
     "output_type": "execute_result"
    }
   ],
   "source": [
    "shapiro(df['price'].to_numpy())"
   ]
  },
  {
   "cell_type": "code",
   "execution_count": 19,
   "id": "d595bfd2",
   "metadata": {},
   "outputs": [
    {
     "data": {
      "text/plain": [
       "AndersonResult(statistic=1194.3888475638378, critical_values=array([0.576, 0.656, 0.787, 0.918, 1.092]), significance_level=array([15. , 10. ,  5. ,  2.5,  1. ]))"
      ]
     },
     "execution_count": 19,
     "metadata": {},
     "output_type": "execute_result"
    }
   ],
   "source": [
    "anderson(df['price'].to_numpy(), dist='norm')"
   ]
  },
  {
   "cell_type": "code",
   "execution_count": 20,
   "id": "31c1e1ba",
   "metadata": {},
   "outputs": [
    {
     "data": {
      "text/plain": [
       "KstestResult(statistic=0.14596448956550412, pvalue=0.0)"
      ]
     },
     "execution_count": 20,
     "metadata": {},
     "output_type": "execute_result"
    }
   ],
   "source": [
    "kstest(std_price, norm.cdf)"
   ]
  },
  {
   "cell_type": "markdown",
   "id": "96d30b1d",
   "metadata": {},
   "source": [
    "As expected, the price variable is far from normal. Let's now check the area of the house."
   ]
  },
  {
   "cell_type": "code",
   "execution_count": 24,
   "id": "bf246270",
   "metadata": {},
   "outputs": [
    {
     "data": {
      "text/plain": [
       "<Figure size 504x504 with 0 Axes>"
      ]
     },
     "metadata": {},
     "output_type": "display_data"
    },
    {
     "data": {
      "image/png": "[encoded data removed]",
      "text/plain": [
       "<Figure size 432x288 with 1 Axes>"
      ]
     },
     "metadata": {
      "needs_background": "light"
     },
     "output_type": "display_data"
    }
   ],
   "source": [
    "std_area = (df['sqft_living'] - df['sqft_living'].mean()) / df['sqft_living'].std()\n",
    "\n",
    "fig = plt.figure(figsize=(7,7))\n",
    "sm.qqplot(data=std_area, line ='45')\n",
    "plt.xlabel('Distribution quantiles', fontsize=16)\n",
    "plt.ylabel('Sample quantiles', fontsize=16)\n",
    "plt.title ('Q-Q plot area of the house', fontsize=16)\n",
    "plt.tick_params(labelsize=14)\n",
    "plt.show()"
   ]
  },
  {
   "cell_type": "code",
   "execution_count": 25,
   "id": "084d7ac6",
   "metadata": {
    "scrolled": true
   },
   "outputs": [
    {
     "data": {
      "text/plain": [
       "<Figure size 504x504 with 0 Axes>"
      ]
     },
     "metadata": {},
     "output_type": "display_data"
    },
    {
     "data": {
      "image/png": "[encoded data removed]",
      "text/plain": [
       "<Figure size 432x288 with 1 Axes>"
      ]
     },
     "metadata": {
      "needs_background": "light"
     },
     "output_type": "display_data"
    }
   ],
   "source": [
    "fig = plt.figure(figsize=(7,7))\n",
    "pplot = sm.ProbPlot(std_area).ppplot(line='45')\n",
    "plt.title('P-P plot of area', fontsize=16)\n",
    "plt.xlabel('Distribution Probabilities', fontsize=16)\n",
    "plt.ylabel('Sample Probabilities', fontsize=16)\n",
    "plt.tick_params(labelsize=14)\n",
    "plt.show()"
   ]
  },
  {
   "cell_type": "code",
   "execution_count": 27,
   "id": "e3b9a075",
   "metadata": {},
   "outputs": [
    {
     "name": "stdout",
     "output_type": "stream",
     "text": [
      "Total area variable skewness is: 1.5276116572295029\n",
      "Total area variable kurtosis is: 5.563430151052014\n"
     ]
    },
    {
     "name": "stderr",
     "output_type": "stream",
     "text": [
      "C:\\Users\\migue\\anaconda3\\lib\\site-packages\\scipy\\stats\\morestats.py:1760: UserWarning: p-value may not be accurate for N > 5000.\n",
      "  warnings.warn(\"p-value may not be accurate for N > 5000.\")\n"
     ]
    },
    {
     "data": {
      "text/plain": [
       "ShapiroResult(statistic=0.9104675650596619, pvalue=0.0)"
      ]
     },
     "execution_count": 27,
     "metadata": {},
     "output_type": "execute_result"
    }
   ],
   "source": [
    "area_skew = df['sqft_living'].skew()\n",
    "area_kurt = df['sqft_living'].kurtosis()\n",
    "print(f'Total area variable skewness is: {area_skew}')\n",
    "print(f'Total area variable kurtosis is: {area_kurt}') \n",
    "\n",
    "shapiro(df['sqft_living'].to_numpy())"
   ]
  },
  {
   "cell_type": "code",
   "execution_count": 28,
   "id": "561a638f",
   "metadata": {},
   "outputs": [
    {
     "data": {
      "text/plain": [
       "AndersonResult(statistic=336.35298408174276, critical_values=array([0.576, 0.656, 0.787, 0.918, 1.092]), significance_level=array([15. , 10. ,  5. ,  2.5,  1. ]))"
      ]
     },
     "execution_count": 28,
     "metadata": {},
     "output_type": "execute_result"
    }
   ],
   "source": [
    "anderson(df['sqft_living'].to_numpy(), dist='norm')"
   ]
  },
  {
   "cell_type": "code",
   "execution_count": 29,
   "id": "70c8147a",
   "metadata": {},
   "outputs": [
    {
     "data": {
      "text/plain": [
       "KstestResult(statistic=0.0797241440757428, pvalue=7.579246739415112e-120)"
      ]
     },
     "execution_count": 29,
     "metadata": {},
     "output_type": "execute_result"
    }
   ],
   "source": [
    "kstest(std_area, norm.cdf)"
   ]
  },
  {
   "cell_type": "markdown",
   "id": "84571631",
   "metadata": {},
   "source": [
    "### Z-value questions"
   ]
  },
  {
   "cell_type": "markdown",
   "id": "beeca2a5",
   "metadata": {},
   "source": [
    "Now, when talking about the 10% priciest houses, what year where they built in and in what location are they?"
   ]
  },
  {
   "cell_type": "code",
   "execution_count": 35,
   "id": "2aea1c27",
   "metadata": {
    "scrolled": false
   },
   "outputs": [
    {
     "data": {
      "text/plain": [
       "Text(0.5, 1.0, 'Location of 10% priciest houses')"
      ]
     },
     "execution_count": 35,
     "metadata": {},
     "output_type": "execute_result"
    },
    {
     "data": {
      "image/png": "[encoded data removed]",
      "text/plain": [
       "<Figure size 1440x720 with 1 Axes>"
      ]
     },
     "metadata": {
      "needs_background": "light"
     },
     "output_type": "display_data"
    }
   ],
   "source": [
    "pricey = df[df['price'] >= 1245801].pivot_table(columns='zipcode', aggfunc='size')\n",
    "\n",
    "fig, ax = plt.subplots(figsize=(20,10))\n",
    "pricey.plot(kind='bar')\n",
    "ax.tick_params(labelsize=13, which='major')\n",
    "ax.set_xlabel('Zipcode', fontsize=16)\n",
    "ax.set_ylabel('Counts', fontsize=16)\n",
    "ax.set_title('Location of 10% priciest houses', fontsize=18)"
   ]
  },
  {
   "cell_type": "markdown",
   "id": "65ce3eaa",
   "metadata": {},
   "source": [
    "So we can see that the highest count, zipcode 98004, corresponds to Belviu, Washington, which is right next to Seattle. Second highest count, zipcode 98040, is Mercer Islands, again right next to Seattle. And all zipcodes starting by 981 are in Seattle. So we see that the 10 % priciest houses in the data set are located mostly in the Seattle area, indicating a clear relation between location and price."
   ]
  },
  {
   "cell_type": "markdown",
   "id": "8415b2cc",
   "metadata": {},
   "source": [
    "Let's now take a look at the age. What age are the 10% priciest houses?"
   ]
  },
  {
   "cell_type": "code",
   "execution_count": 36,
   "id": "f18380c4",
   "metadata": {},
   "outputs": [
    {
     "data": {
      "text/plain": [
       "Text(0.5, 1.0, 'Age of 10% priciest houses')"
      ]
     },
     "execution_count": 36,
     "metadata": {},
     "output_type": "execute_result"
    },
    {
     "data": {
      "image/png": "[encoded data removed]",
      "text/plain": [
       "<Figure size 1440x720 with 1 Axes>"
      ]
     },
     "metadata": {
      "needs_background": "light"
     },
     "output_type": "display_data"
    }
   ],
   "source": [
    "major = MultipleLocator(10)\n",
    "\n",
    "age = df[df['price'] >= 1245801].pivot_table(columns='yr_built', aggfunc='size')\n",
    "\n",
    "fig, ax = plt.subplots(figsize=(20,10))\n",
    "age.plot(kind='bar')\n",
    "ax.tick_params(labelsize=13, which='major')\n",
    "ax.xaxis.set_major_locator(major)\n",
    "ax.set_xlabel('Year built', fontsize=16)\n",
    "ax.set_ylabel('Counts', fontsize=16)\n",
    "ax.set_title('Age of 10% priciest houses', fontsize=18)"
   ]
  },
  {
   "cell_type": "markdown",
   "id": "7c33db06",
   "metadata": {},
   "source": [
    "The priciest houses are relatively recent, the majority of the houses are less than 15 years old. This, again, is in accordance with the findings of other researchers."
   ]
  },
  {
   "cell_type": "markdown",
   "id": "064d365a",
   "metadata": {},
   "source": [
    "### Correlations"
   ]
  },
  {
   "cell_type": "markdown",
   "id": "9bef70d0",
   "metadata": {},
   "source": [
    "Let us investigate now the relation between the area of the house and its price. Let's use a scatter plot for that. "
   ]
  },
  {
   "cell_type": "code",
   "execution_count": 40,
   "id": "364929c1",
   "metadata": {},
   "outputs": [
    {
     "data": {
      "image/png": "[encoded data removed]",
      "text/plain": [
       "<Figure size 720x504 with 1 Axes>"
      ]
     },
     "metadata": {
      "needs_background": "light"
     },
     "output_type": "display_data"
    },
    {
     "name": "stdout",
     "output_type": "stream",
     "text": [
      "Fit score: 0.4858761429784717\n"
     ]
    }
   ],
   "source": [
    "lm = linear_model.LinearRegression()\n",
    "X = np.array(df['sqft_living']).reshape((-1, 1))\n",
    "reg = lm.fit(X, df['price'])\n",
    "\n",
    "\n",
    "fig = plt.figure(figsize=(10,7))\n",
    "plt.scatter(x=df['sqft_living'], y=df['price'])\n",
    "plt.plot(df['sqft_living'], (reg.intercept_ + reg.coef_*df['sqft_living']), color='r', label='Linear fit')\n",
    "plt.xlabel('Area of the house (sqft)', fontsize=16)\n",
    "plt.ylabel('Price (USD)', fontsize=16)\n",
    "plt.tick_params(labelsize=14)\n",
    "plt.legend()\n",
    "plt.show()\n",
    "\n",
    "print(f\"Fit score: {reg.score(X, df['price'])}\")"
   ]
  },
  {
   "cell_type": "markdown",
   "id": "88c395f7",
   "metadata": {},
   "source": [
    "There clearly is a relationship, but is not as strong as one might expect. Only about a 49% percent of the variance of the price variable can be explained by changes of the area variable."
   ]
  },
  {
   "cell_type": "markdown",
   "id": "e853ad1a",
   "metadata": {},
   "source": [
    "Now we check a linear model with the zipcode. First, we create dummy variables for the zipcode variable."
   ]
  },
  {
   "cell_type": "code",
   "execution_count": 41,
   "id": "e8487584",
   "metadata": {},
   "outputs": [
    {
     "name": "stderr",
     "output_type": "stream",
     "text": [
      "No artists with labels found to put in legend.  Note that artists whose label start with an underscore are ignored when legend() is called with no argument.\n"
     ]
    },
    {
     "data": {
      "image/png": "[encoded data removed]",
      "text/plain": [
       "<Figure size 720x504 with 1 Axes>"
      ]
     },
     "metadata": {
      "needs_background": "light"
     },
     "output_type": "display_data"
    },
    {
     "data": {
      "text/html": [
       "<div>\n",
       "<style scoped>\n",
       "    .dataframe tbody tr th:only-of-type {\n",
       "        vertical-align: middle;\n",
       "    }\n",
       "\n",
       "    .dataframe tbody tr th {\n",
       "        vertical-align: top;\n",
       "    }\n",
       "\n",
       "    .dataframe thead th {\n",
       "        text-align: right;\n",
       "    }\n",
       "</style>\n",
       "<table border=\"1\" class=\"dataframe\">\n",
       "  <thead>\n",
       "    <tr style=\"text-align: right;\">\n",
       "      <th></th>\n",
       "      <th>names</th>\n",
       "      <th>coef</th>\n",
       "      <th>se</th>\n",
       "      <th>T</th>\n",
       "      <th>pval</th>\n",
       "      <th>r2</th>\n",
       "      <th>adj_r2</th>\n",
       "      <th>CI[2.5%]</th>\n",
       "      <th>CI[97.5%]</th>\n",
       "    </tr>\n",
       "  </thead>\n",
       "  <tbody>\n",
       "    <tr>\n",
       "      <th>0</th>\n",
       "      <td>Intercept</td>\n",
       "      <td>-7.419045e+16</td>\n",
       "      <td>2644.50</td>\n",
       "      <td>-2.805459e+13</td>\n",
       "      <td>0.0</td>\n",
       "      <td>0.41</td>\n",
       "      <td>0.41</td>\n",
       "      <td>-7.419045e+16</td>\n",
       "      <td>-7.419045e+16</td>\n",
       "    </tr>\n",
       "    <tr>\n",
       "      <th>1</th>\n",
       "      <td>1840.0</td>\n",
       "      <td>7.419045e+16</td>\n",
       "      <td>105613.43</td>\n",
       "      <td>7.024718e+11</td>\n",
       "      <td>0.0</td>\n",
       "      <td>0.41</td>\n",
       "      <td>0.41</td>\n",
       "      <td>7.419045e+16</td>\n",
       "      <td>7.419045e+16</td>\n",
       "    </tr>\n",
       "    <tr>\n",
       "      <th>2</th>\n",
       "      <td>98001.0</td>\n",
       "      <td>7.419045e+16</td>\n",
       "      <td>14938.01</td>\n",
       "      <td>4.966555e+12</td>\n",
       "      <td>0.0</td>\n",
       "      <td>0.41</td>\n",
       "      <td>0.41</td>\n",
       "      <td>7.419045e+16</td>\n",
       "      <td>7.419045e+16</td>\n",
       "    </tr>\n",
       "    <tr>\n",
       "      <th>3</th>\n",
       "      <td>98002.0</td>\n",
       "      <td>7.419045e+16</td>\n",
       "      <td>19977.64</td>\n",
       "      <td>3.713675e+12</td>\n",
       "      <td>0.0</td>\n",
       "      <td>0.41</td>\n",
       "      <td>0.41</td>\n",
       "      <td>7.419045e+16</td>\n",
       "      <td>7.419045e+16</td>\n",
       "    </tr>\n",
       "    <tr>\n",
       "      <th>4</th>\n",
       "      <td>98003.0</td>\n",
       "      <td>7.419045e+16</td>\n",
       "      <td>16931.40</td>\n",
       "      <td>4.381826e+12</td>\n",
       "      <td>0.0</td>\n",
       "      <td>0.41</td>\n",
       "      <td>0.41</td>\n",
       "      <td>7.419045e+16</td>\n",
       "      <td>7.419045e+16</td>\n",
       "    </tr>\n",
       "    <tr>\n",
       "      <th>...</th>\n",
       "      <td>...</td>\n",
       "      <td>...</td>\n",
       "      <td>...</td>\n",
       "      <td>...</td>\n",
       "      <td>...</td>\n",
       "      <td>...</td>\n",
       "      <td>...</td>\n",
       "      <td>...</td>\n",
       "      <td>...</td>\n",
       "    </tr>\n",
       "    <tr>\n",
       "      <th>67</th>\n",
       "      <td>98177.0</td>\n",
       "      <td>7.419045e+16</td>\n",
       "      <td>17691.67</td>\n",
       "      <td>4.193525e+12</td>\n",
       "      <td>0.0</td>\n",
       "      <td>0.41</td>\n",
       "      <td>0.41</td>\n",
       "      <td>7.419045e+16</td>\n",
       "      <td>7.419045e+16</td>\n",
       "    </tr>\n",
       "    <tr>\n",
       "      <th>68</th>\n",
       "      <td>98178.0</td>\n",
       "      <td>7.419045e+16</td>\n",
       "      <td>17459.08</td>\n",
       "      <td>4.249391e+12</td>\n",
       "      <td>0.0</td>\n",
       "      <td>0.41</td>\n",
       "      <td>0.41</td>\n",
       "      <td>7.419045e+16</td>\n",
       "      <td>7.419045e+16</td>\n",
       "    </tr>\n",
       "    <tr>\n",
       "      <th>69</th>\n",
       "      <td>98188.0</td>\n",
       "      <td>7.419045e+16</td>\n",
       "      <td>24186.70</td>\n",
       "      <td>3.067407e+12</td>\n",
       "      <td>0.0</td>\n",
       "      <td>0.41</td>\n",
       "      <td>0.41</td>\n",
       "      <td>7.419045e+16</td>\n",
       "      <td>7.419045e+16</td>\n",
       "    </tr>\n",
       "    <tr>\n",
       "      <th>70</th>\n",
       "      <td>98198.0</td>\n",
       "      <td>7.419045e+16</td>\n",
       "      <td>16901.88</td>\n",
       "      <td>4.389480e+12</td>\n",
       "      <td>0.0</td>\n",
       "      <td>0.41</td>\n",
       "      <td>0.41</td>\n",
       "      <td>7.419045e+16</td>\n",
       "      <td>7.419045e+16</td>\n",
       "    </tr>\n",
       "    <tr>\n",
       "      <th>71</th>\n",
       "      <td>98199.0</td>\n",
       "      <td>7.419045e+16</td>\n",
       "      <td>15910.57</td>\n",
       "      <td>4.662967e+12</td>\n",
       "      <td>0.0</td>\n",
       "      <td>0.41</td>\n",
       "      <td>0.41</td>\n",
       "      <td>7.419045e+16</td>\n",
       "      <td>7.419045e+16</td>\n",
       "    </tr>\n",
       "  </tbody>\n",
       "</table>\n",
       "<p>72 rows × 9 columns</p>\n",
       "</div>"
      ],
      "text/plain": [
       "        names          coef         se             T  pval    r2  adj_r2  \\\n",
       "0   Intercept -7.419045e+16    2644.50 -2.805459e+13   0.0  0.41    0.41   \n",
       "1      1840.0  7.419045e+16  105613.43  7.024718e+11   0.0  0.41    0.41   \n",
       "2     98001.0  7.419045e+16   14938.01  4.966555e+12   0.0  0.41    0.41   \n",
       "3     98002.0  7.419045e+16   19977.64  3.713675e+12   0.0  0.41    0.41   \n",
       "4     98003.0  7.419045e+16   16931.40  4.381826e+12   0.0  0.41    0.41   \n",
       "..        ...           ...        ...           ...   ...   ...     ...   \n",
       "67    98177.0  7.419045e+16   17691.67  4.193525e+12   0.0  0.41    0.41   \n",
       "68    98178.0  7.419045e+16   17459.08  4.249391e+12   0.0  0.41    0.41   \n",
       "69    98188.0  7.419045e+16   24186.70  3.067407e+12   0.0  0.41    0.41   \n",
       "70    98198.0  7.419045e+16   16901.88  4.389480e+12   0.0  0.41    0.41   \n",
       "71    98199.0  7.419045e+16   15910.57  4.662967e+12   0.0  0.41    0.41   \n",
       "\n",
       "        CI[2.5%]     CI[97.5%]  \n",
       "0  -7.419045e+16 -7.419045e+16  \n",
       "1   7.419045e+16  7.419045e+16  \n",
       "2   7.419045e+16  7.419045e+16  \n",
       "3   7.419045e+16  7.419045e+16  \n",
       "4   7.419045e+16  7.419045e+16  \n",
       "..           ...           ...  \n",
       "67  7.419045e+16  7.419045e+16  \n",
       "68  7.419045e+16  7.419045e+16  \n",
       "69  7.419045e+16  7.419045e+16  \n",
       "70  7.419045e+16  7.419045e+16  \n",
       "71  7.419045e+16  7.419045e+16  \n",
       "\n",
       "[72 rows x 9 columns]"
      ]
     },
     "execution_count": 41,
     "metadata": {},
     "output_type": "execute_result"
    }
   ],
   "source": [
    "dummy = pd.get_dummies(df['zipcode'])\n",
    "\n",
    "lm = pg.linear_regression(dummy, df['price'], remove_na=True)\n",
    "\n",
    "\n",
    "\n",
    "fig = plt.figure(figsize=(10,7))\n",
    "plt.scatter(x=df['zipcode'], y=df['price'])\n",
    "plt.xlabel('Zipcode', fontsize=16)\n",
    "plt.ylabel('Price', fontsize=16)\n",
    "plt.tick_params(labelsize=14)\n",
    "plt.legend()\n",
    "plt.savefig('scat_price_zipcode.jpg')\n",
    "plt.show()\n",
    "\n",
    "lm.round(2)"
   ]
  },
  {
   "cell_type": "markdown",
   "id": "9d605593",
   "metadata": {},
   "source": [
    "Once again, there is a relation between the location and the price of a house, but is not very strong. This, however, seem to be good predictors of the price."
   ]
  }
 ],
 "metadata": {
  "kernelspec": {
   "display_name": "Python 3 (ipykernel)",
   "language": "python",
   "name": "python3"
  },
  "language_info": {
   "codemirror_mode": {
    "name": "ipython",
    "version": 3
   },
   "file_extension": ".py",
   "mimetype": "text/x-python",
   "name": "python",
   "nbconvert_exporter": "python",
   "pygments_lexer": "ipython3",
   "version": "3.9.12"
  }
 },
 "nbformat": 4,
 "nbformat_minor": 5
}
